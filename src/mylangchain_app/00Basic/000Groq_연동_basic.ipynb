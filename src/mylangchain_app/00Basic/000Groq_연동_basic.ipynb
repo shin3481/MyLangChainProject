{
 "cells": [
  {
   "cell_type": "code",
   "execution_count": 1,
   "metadata": {},
   "outputs": [
    {
     "name": "stdout",
     "output_type": "stream",
     "text": [
      "Hello LangChain\n"
     ]
    }
   ],
   "source": [
    "print(\"Hello LangChain\")"
   ]
  },
  {
   "cell_type": "code",
   "execution_count": 3,
   "metadata": {},
   "outputs": [
    {
     "name": "stdout",
     "output_type": "stream",
     "text": [
      "gsk_tXXwE4\n"
     ]
    }
   ],
   "source": [
    "import os\n",
    "from dotenv import load_dotenv\n",
    "from langchain_core.prompts import ChatPromptTemplate\n",
    "from langchain_openai import ChatOpenAI \n",
    "\n",
    "#load_dotenv(dotenv_path='.env')\n",
    "load_dotenv()\n",
    "OPENAI_API_KEY = os.getenv(\"OPENAI_API_KEY\")\n",
    "print(OPENAI_API_KEY[:10])\n"
   ]
  },
  {
   "cell_type": "code",
   "execution_count": 4,
   "metadata": {},
   "outputs": [
    {
     "data": {
      "text/plain": [
       "ChatPromptTemplate(input_variables=['input'], input_types={}, partial_variables={}, messages=[SystemMessagePromptTemplate(prompt=PromptTemplate(input_variables=[], input_types={}, partial_variables={}, template='당신은 개발자입니다.'), additional_kwargs={}), HumanMessagePromptTemplate(prompt=PromptTemplate(input_variables=['input'], input_types={}, partial_variables={}, template='{input}'), additional_kwargs={})])"
      ]
     },
     "execution_count": 4,
     "metadata": {},
     "output_type": "execute_result"
    }
   ],
   "source": [
    "# prompt + llm + output \n",
    "\n",
    "# prompt\n",
    "prompt = ChatPromptTemplate.from_messages(\n",
    "    [ (\"system\", \"당신은 개발자입니다.\") , \n",
    "     (\"user\", \"{input}\") ]\n",
    ")\n",
    "prompt"
   ]
  },
  {
   "cell_type": "code",
   "execution_count": 5,
   "metadata": {},
   "outputs": [
    {
     "name": "stdout",
     "output_type": "stream",
     "text": [
      "<class 'str'>\n",
      "System: 당신은 개발자입니다.\n",
      "Human: 파이썬은 무엇인가요? 자세하게 설명해주세요\n"
     ]
    }
   ],
   "source": [
    "prompt_text = prompt.format(input=\"파이썬은 무엇인가요? 자세하게 설명해주세요\")\n",
    "print(type(prompt_text))\n",
    "print(prompt_text)"
   ]
  },
  {
   "cell_type": "code",
   "execution_count": 15,
   "metadata": {},
   "outputs": [
    {
     "name": "stdout",
     "output_type": "stream",
     "text": [
      "<class 'langchain_openai.chat_models.base.ChatOpenAI'>\n",
      "client=<openai.resources.chat.completions.completions.Completions object at 0x00000197F4ED6030> async_client=<openai.resources.chat.completions.completions.AsyncCompletions object at 0x00000197F4E45880> root_client=<openai.OpenAI object at 0x00000197F4AA5730> root_async_client=<openai.AsyncOpenAI object at 0x00000197F4ED6000> model_name='openai/gpt-oss-120b' temperature=0.7 model_kwargs={} openai_api_key=SecretStr('**********') openai_api_base='https://api.groq.com/openai/v1'\n"
     ]
    }
   ],
   "source": [
    "#llm = ChatOpenAI(api_key=OPENAI_API_KEY, model_name=\"gpt-3.5-turbo-0125\")\n",
    "\n",
    "# Groq API를 사용하는 ChatOpenAI 인스턴스 생성\n",
    "llm = ChatOpenAI(\n",
    "    #api_key=OPENAI_API_KEY,\n",
    "    base_url=\"https://api.groq.com/openai/v1\",  # Groq API 엔드포인트\n",
    "    #model=\"meta-llama/llama-4-scout-17b-16e-instruct\",\n",
    "    #model=\"moonshotai/kimi-k2-instruct-0905\",\n",
    "    model=\"openai/gpt-oss-120b\",\n",
    "\n",
    "    temperature=0.7\n",
    ")\n",
    "print(type(llm))\n",
    "print(llm)"
   ]
  },
  {
   "cell_type": "code",
   "execution_count": 16,
   "metadata": {},
   "outputs": [
    {
     "name": "stdout",
     "output_type": "stream",
     "text": [
      "<class 'langchain_core.messages.ai.AIMessage'>\n",
      "응답: ## 파이썬(Python)이란?\n",
      "\n",
      "파이썬은 **고수준(high‑level), 인터프리터 방식(interpreted), 동적 타이핑(dynamic typing)**을 지원하는 범용 프로그래밍 언어입니다. 1991년 네덜란드의 프로그래머 **귀도 반 로섬(Guido van Rossum)**이 처음 발표했으며, 현재는 **오픈 소스** 프로젝트로 전 세계 수많은 개발자와 기업이 활발히 유지·보수하고 있습니다.\n",
      "\n",
      "---\n",
      "\n",
      "## 1. 파이썬의 주요 특징\n",
      "\n",
      "| 특징 | 설명 | 장점 |\n",
      "|------|------|------|\n",
      "| **읽기 쉬운 문법** | 들여쓰기(Indentation)로 블록을 구분하고, 불필요한 기호가 적음 | 코드 가독성·유지보수성이 뛰어남 |\n",
      "| **동적 타입** | 변수 선언 시 타입을 명시하지 않음 | 빠른 프로토타이핑, 코드 작성이 간결 |\n",
      "| **인터프리터** | 코드를 한 줄씩 실행(컴파일 단계가 없음) | 즉시 실행·디버깅이 쉬움, REPL 환경 제공 |\n",
      "| **멀티패러다임** | 절차적, 객체지향, 함수형 프로그래밍 모두 지원 | 다양한 문제 해결 방식 선택 가능 |\n",
      "| **풍부한 표준 라이브러리** | `os`, `json`, `datetime`, `urllib` 등 200여 개 모듈 포함 | 외부 패키지 없이도 많은 작업 수행 가능 |\n",
      "| **확장성** | C/C++ 로 구현된 모듈을 쉽게 연결 (`CPython`), JIT 컴파일러(`PyPy`) 등 | 성능 최적화·특수 목적 구현이 용이 |\n",
      "| **플랫폼 독립성** | Windows, macOS, Linux, BSD, 모바일 등 거의 모든 OS에서 실행 | 한 번 작성해 어디서든 실행 가능 |\n",
      "| **대규모 커뮤니티** | PyPI(파이썬 패키지 인덱스)와 수많은 오픈소스 프로젝트 | 라이브러리·도구·학습 자료가 풍부 |\n",
      "\n",
      "---\n",
      "\n",
      "## 2. 파이썬의 역사\n",
      "\n",
      "| 연도 | 사건 |\n",
      "|------|------|\n",
      "| **1980년대 후반** | 귀도 반 로섬이 ABC 언어 개선을 목표로 파이썬 설계 시작 |\n",
      "| **1991년** | 첫 번째 공개 버전(`Python 0.9.0`) 발표 – 모듈, 예외 처리, 함수 등 기본 기능 포함 |\n",
      "| **2000년** | `Python 2.0` 출시 – 리스트 컴프리헨션, 가비지 컬렉션 등 도입 |\n",
      "| **2008년** | `Python 3.0` 발표 – 문자열 처리(Unicode 기본), `print` 함수화, `range` 등 호환성 깨지는 변화 |\n",
      "| **2010~2020년** | 머신러닝·데이터 과학 붐에 따라 `NumPy`, `pandas`, `TensorFlow`, `PyTorch` 등 라이브러리 급성장 |\n",
      "| **2023년** | `Python 3.12` 출시 – 성능 개선(약 10~20% 빠름), 패턴 매칭 확장 등 |\n",
      "| **현재** | 최신 LTS 버전은 `Python 3.13` (2025년 초)이며, 커뮤니티는 연간 `PyCon` 등 국제 컨퍼런스를 활발히 개최 |\n",
      "\n",
      "---\n",
      "\n",
      "## 3. 파이썬이 쓰이는 분야\n",
      "\n",
      "| 분야 | 구체적인 활용 예시 |\n",
      "|------|-------------------|\n",
      "| **웹 개발** | Django, Flask, FastAPI 등 프레임워크를 이용한 백엔드 서비스 |\n",
      "| **데이터 과학 & 분석** | pandas, NumPy, matplotlib, seaborn 등으로 데이터 전처리·시각화 |\n",
      "| **머신러닝 & 딥러닝** | scikit‑learn, TensorFlow, PyTorch, Keras 등 |\n",
      "| **자동화·스크립트** | 파일·시스템 자동화, 웹 스크래핑(`requests`, `BeautifulSoup`, `Selenium`) |\n",
      "| **시스템 관리** | Ansible, SaltStack 같은 인프라 자동화 도구 |\n",
      "| **게임 개발** | Pygame, Panda3D 등 |\n",
      "| **교육** | 초·중·고·대학 및 온라인 코스에서 입문 언어로 널리 사용 |\n",
      "| **과학·공학** | 시뮬레이션, 수치 해석, 천문학, 생물정보학 등 (SciPy, Biopython 등) |\n",
      "| **데스크톱 GUI** | Tkinter, PyQt, Kivy 등으로 크로스플랫폼 GUI 앱 제작 |\n",
      "| **임베디드·IoT** | MicroPython, CircuitPython 등 마이크로컨트롤러에 탑재 |\n",
      "\n",
      "---\n",
      "\n",
      "## 4. 파이썬 코드 예시\n",
      "\n",
      "### 4‑1. “Hello, World!”  \n",
      "```python\n",
      "print(\"Hello, World!\")\n",
      "```\n",
      "\n",
      "### 4‑2. 리스트 컴프리헨션을 이용한 제곱값 리스트\n",
      "```python\n",
      "numbers = [1, 2, 3, 4, 5]\n",
      "squares = [x**2 for x in numbers]\n",
      "print(squares)   # [1, 4, 9, 16, 25]\n",
      "```\n",
      "\n",
      "### 4‑3. 간단한 웹 서버 (Flask)\n",
      "```python\n",
      "from flask import Flask\n",
      "\n",
      "app = Flask(__name__)\n",
      "\n",
      "@app.route(\"/\")\n",
      "def hello():\n",
      "    return \"Hello, Flask!\"\n",
      "\n",
      "if __name__ == \"__main__\":\n",
      "    app.run(debug=True)\n",
      "```\n",
      "\n",
      "### 4‑4. 데이터프레임을 이용한 CSV 파일 읽기 (pandas)\n",
      "```python\n",
      "import pandas as pd\n",
      "\n",
      "df = pd.read_csv(\"sales_data.csv\")\n",
      "print(df.head())\n",
      "```\n",
      "\n",
      "---\n",
      "\n",
      "## 5. 파이썬 인터프리터 종류\n",
      "\n",
      "| 인터프리터 | 특징 | 사용 상황 |\n",
      "|------------|------|-----------|\n",
      "| **CPython** | 가장 널리 쓰이는 공식 구현 (C 언어 기반) | 일반적인 개발·배포 |\n",
      "| **PyPy** | JIT(Just‑In‑Time) 컴파일러 탑재, 실행 속도 2~4배 빠름 | 성능이 중요한 스크립트 |\n",
      "| **Jython** | Java 가상 머신 위에서 동작, Java 클래스와 직접 연동 | Java 생태계와 통합 |\n",
      "| **IronPython** | .NET 환경에서 동작, .NET 라이브러리 사용 가능 | Windows/.NET 기반 프로젝트 |\n",
      "| **MicroPython** | 마이크로컨트롤러용 경량 구현 | 임베디드·IoT |\n",
      "\n",
      "---\n",
      "\n",
      "## 6. 파이썬 설치와 개발 환경\n",
      "\n",
      "1. **설치**  \n",
      "   - 공식 사이트 <https://python.org> 에서 최신 버전 다운로드.  \n",
      "   - macOS와 Linux는 대부분 `apt`, `brew`, `yum` 등 패키지 매니저로 설치 가능.  \n",
      "   - Windows에서는 설치 시 “Add Python to PATH” 옵션을 체크.\n",
      "\n",
      "2. **가상 환경(Virtual Environment)**  \n",
      "   ```bash\n",
      "   python -m venv myenv      # 가상 환경 생성\n",
      "   source myenv/bin/activate # (Linux/macOS) 활성화\n",
      "   myenv\\Scripts\\activate    # (Windows) 활성화\n",
      "   ```\n",
      "   - 프로젝트마다 독립된 패키지 집합을 유지해 충돌 방지.\n",
      "\n",
      "3. **패키지 관리**  \n",
      "   - `pip` (Python Package Installer) → `pip install numpy`  \n",
      "   - `conda` (Anaconda/Miniconda) → 과학·데이터 분야에서 많이 사용.\n",
      "\n",
      "4. **IDE/편집기**  \n",
      "   - **VS Code** + Python Extension (인텔리센스, 디버깅)  \n",
      "   - **PyCharm** (Professional/Community)  \n",
      "   - **Jupyter Notebook/Lab** (대화형 데이터 분석)  \n",
      "   - **Spyder**, **Thonny**, **Vim/Neovim** 등도 인기.\n",
      "\n",
      "---\n",
      "\n",
      "## 7. 파이썬 학습 로드맵 (초급 → 고급)\n",
      "\n",
      "| 단계 | 목표 | 핵심 학습 내용 |\n",
      "|------|------|----------------|\n",
      "| **초급** | 기본 문법·구조 이해 | 변수·자료형, 연산자, 조건문, 반복문, 함수, 리스트·딕셔너리, 파일 I/O |\n",
      "| **중급** | 실제 프로젝트에 적용 | 모듈·패키지, 예외 처리, 클래스·객체지향, 가상 환경, 기본 라이브러리 활용 |\n",
      "| **고급** | 성능·확장·전문 분야 | 데코레이터·제너레이터, 메타클래스, 멀티스레딩·멀티프로세싱, C 확장, 프로파일링 |\n",
      "| **전문** | 특정 도메인 마스터 | 웹 프레임워크(Django/Flask), 데이터 과학(pandas/NumPy), 머신러닝(TensorFlow/PyTorch), 자동화(Selenium) 등 |\n",
      "\n",
      "---\n",
      "\n",
      "## 8. 파이썬을 선택해야 하는 이유\n",
      "\n",
      "1. **생산성** – 짧은 코드로 복잡한 로직 구현 가능.  \n",
      "2. **커뮤니티** – 질문·답변이 풍부하고, 거의 모든 분야에 라이브러리가 존재.  \n",
      "3. **다양한 적용 영역** – 웹, 데이터, 과학, 자동화 등 한 언어로 여러 분야를 커버.  \n",
      "4. **교육 친화성** – 문법이 직관적이라 프로그래밍 입문에 최적.  \n",
      "5. **기업 채택** – 구글, 넷플릭스, 인스타그램, NASA 등 대기업에서도 핵심 언어로 사용.\n",
      "\n",
      "---\n",
      "\n",
      "## 9. 파이썬의 한계와 보완책\n",
      "\n",
      "| 한계 | 설명 | 보완·대응 방법 |\n",
      "|------|------|----------------|\n",
      "| **실행 속도** | 인터프리터 특성상 C/C++에 비해 느림 | PyPy 사용, Cython으로 핵심 로직 C 확장, Numba JIT 적용 |\n",
      "| **모바일·임베디드** | 기본 지원이 약함 | Kivy, BeeWare, MicroPython 등 전용 프레임워크 활용 |\n",
      "| **멀티스레딩 제한**(GIL) | Global Interpreter Lock 때문에 CPU 바운드 작업에 제한 | `multiprocessing`, `concurrent.futures`, 혹은 `asyncio` 비동기 활용 |\n",
      "| **정적 타입 부재** | 런타임 오류 가능성 | 타입 힌트(`typing` 모듈)와 `mypy` 같은 정적 분석 도구 사용 |\n",
      "\n",
      "---\n",
      "\n",
      "## 10. 앞으로의 전망\n",
      "\n",
      "- **성능 개선**: Python 3.13·3.14에서 지속적인 최적화와 패턴 매칭, 구조적 타이핑 도입으로 코드 가독성과 실행 효율이 높아짐.  \n",
      "- **AI·ML 중심**: 대형 모델(LLM) 파인튜닝, 데이터 파이프라인 자동화 등에서 파이썬 생태계는 여전히 핵심.  \n",
      "- **멀티플랫폼**: WASM(WebAssembly)용 파이썬(`Pyodide`)과 클라우드 서버리스(`AWS Lambda`, `Google Cloud Functions`) 지원이 확대되고 있어, “코드 한 번, 어디서든 실행”이 현실화되고 있음.  \n",
      "- **교육**: 초·중·고 교육 과정에 파이썬이 표준으로 자리 잡으며, 비전공자·전문가 모두에게 필수 스킬이 되고 있다.\n",
      "\n",
      "---\n",
      "\n",
      "### 한 줄 요약\n",
      "> 파이썬은 **읽기 쉬운 문법**, **풍부한 라이브러리**, **다양한 적용 분야**를 갖춘 현대 프로그래밍의 ‘만능 키’이며, 초보부터 전문가까지 모두가 활용할 수 있는 가장 실용적인 언어입니다.  \n",
      "\n",
      "궁금한 점이 있으면 언제든 질문해주세요! 🚀\n"
     ]
    }
   ],
   "source": [
    "try:\n",
    "    response = llm.invoke(prompt_text)\n",
    "    print(type(response))\n",
    "    print(\"응답:\", response.content)\n",
    "except Exception as e:\n",
    "    print(f\"오류 발생: {e}\")"
   ]
  },
  {
   "cell_type": "markdown",
   "metadata": {},
   "source": [
    "# LCEL"
   ]
  },
  {
   "cell_type": "code",
   "execution_count": 17,
   "metadata": {},
   "outputs": [],
   "source": [
    "from langchain_core.output_parsers import StrOutputParser\n",
    "\n",
    "output_parser = StrOutputParser()"
   ]
  },
  {
   "cell_type": "code",
   "execution_count": 19,
   "metadata": {},
   "outputs": [
    {
     "name": "stdout",
     "output_type": "stream",
     "text": [
      "<class 'langchain_core.runnables.base.RunnableSequence'>\n",
      "first=ChatPromptTemplate(input_variables=['input'], input_types={}, partial_variables={}, messages=[SystemMessagePromptTemplate(prompt=PromptTemplate(input_variables=[], input_types={}, partial_variables={}, template='당신은 개발자입니다.'), additional_kwargs={}), HumanMessagePromptTemplate(prompt=PromptTemplate(input_variables=['input'], input_types={}, partial_variables={}, template='{input}'), additional_kwargs={})]) middle=[ChatOpenAI(client=<openai.resources.chat.completions.completions.Completions object at 0x00000197F4ED6030>, async_client=<openai.resources.chat.completions.completions.AsyncCompletions object at 0x00000197F4E45880>, root_client=<openai.OpenAI object at 0x00000197F4AA5730>, root_async_client=<openai.AsyncOpenAI object at 0x00000197F4ED6000>, model_name='openai/gpt-oss-120b', temperature=0.7, model_kwargs={}, openai_api_key=SecretStr('**********'), openai_api_base='https://api.groq.com/openai/v1')] last=StrOutputParser()\n"
     ]
    }
   ],
   "source": [
    "chain = prompt | llm | output_parser\n",
    "print(type(chain))\n",
    "print(chain)"
   ]
  },
  {
   "cell_type": "code",
   "execution_count": 20,
   "metadata": {},
   "outputs": [],
   "source": [
    "response = chain.invoke({\"input\":\"지구의 자전주기는 얼마인가요?\"})"
   ]
  },
  {
   "cell_type": "code",
   "execution_count": 21,
   "metadata": {},
   "outputs": [
    {
     "name": "stdout",
     "output_type": "stream",
     "text": [
      "<class 'str'>\n",
      "지구는 **자전**을 두 가지 기준으로 측정할 수 있습니다.\n",
      "\n",
      "| 기준 | 자전주기(하루) | 설명 |\n",
      "|------|----------------|------|\n",
      "| **항성일 (Sidereal day)** | **≈ 23시간 56분 4초** (≈ 0.9973 태양일) | 별을 기준으로 같은 위치에 다시 오기까지 걸리는 시간. 실제 지구의 회전 속도를 가장 정확히 나타냅니다. |\n",
      "| **태양일 (Solar day)** | **≈ 24시간** (정확히 86 400 초) | 태양이 하늘에서 같은 위치(예: 정오)로 돌아오는데 걸리는 시간. 일상 생활에서 사용하는 “하루”는 이 태양일입니다. |\n",
      "\n",
      "### 왜 두 가지 값이 다른가?\n",
      "지구는 태양 주위를 **공전**하고 있기 때문에, 한 번 자전(항성일)만 하면 태양이 다시 같은 위치에 오지 않습니다. 공전 때문에 태양이 같은 위치에 오려면 지구가 추가로 약 **4분** 정도 더 회전해야 합니다. 그래서 **태양일**이 **항성일**보다 약 4분 길어집니다.\n",
      "\n",
      "### 간단히 정리\n",
      "- **지구의 실제 회전 주기(항성일)**: 약 23 h 56 m 4 s  \n",
      "- **일상에서 사용하는 하루(태양일)**: 24 h (86 400 s)\n",
      "\n",
      "이 두 값이 바로 지구 자전주기의 핵심입니다.\n"
     ]
    }
   ],
   "source": [
    "print(type(response))\n",
    "print(response)"
   ]
  }
 ],
 "metadata": {
  "kernelspec": {
   "display_name": "mylangchain-app-SBe-Yh6W-py3.12",
   "language": "python",
   "name": "python3"
  },
  "language_info": {
   "codemirror_mode": {
    "name": "ipython",
    "version": 3
   },
   "file_extension": ".py",
   "mimetype": "text/x-python",
   "name": "python",
   "nbconvert_exporter": "python",
   "pygments_lexer": "ipython3",
   "version": "3.12.7"
  }
 },
 "nbformat": 4,
 "nbformat_minor": 2
}
