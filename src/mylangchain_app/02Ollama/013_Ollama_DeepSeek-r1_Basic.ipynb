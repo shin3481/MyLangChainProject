{
 "cells": [
  {
   "cell_type": "markdown",
   "metadata": {},
   "source": [
    "#### 1. 패키지 설치"
   ]
  },
  {
   "cell_type": "code",
   "execution_count": null,
   "metadata": {},
   "outputs": [],
   "source": [
    "#poetry add langchain-ollama"
   ]
  },
  {
   "cell_type": "markdown",
   "metadata": {},
   "source": [
    "#### 로컬 Ollama로 설치한 deepseek-r1:1.5b 모델을 사용하기\n",
    "##### ollama run deepseek-r1:1.5b"
   ]
  },
  {
   "cell_type": "code",
   "execution_count": null,
   "metadata": {},
   "outputs": [],
   "source": [
    "from langchain.llms import Ollama\n",
    "from langchain.prompts import PromptTemplate\n",
    "from langchain.chains import LLMChain\n",
    "\n",
    "# Ollama를 사용하여 로컬에서 실행 중인 deepseek-r1 모델을 로드\n",
    "llm = Ollama(model=\"deepseek-r1:1.5b\")\n",
    "\n",
    "# 프롬프트 템플릿 정의\n",
    "prompt_template = PromptTemplate(\n",
    "    input_variables=[\"question\"],\n",
    "    template=\"Q: {question}\\nA:\"\n",
    ")\n",
    "\n",
    "# LLMChain 생성\n",
    "chain = LLMChain(llm=llm, prompt=prompt_template)\n",
    "\n",
    "# 질문을 입력하고 모델의 응답을 받음\n",
    "question = \"What is LangChain?\"\n",
    "response = chain.invoke({\"question\": question})\n",
    "\n",
    "# 결과 출력\n",
    "print(type(response))\n",
    "print(response)\n",
    "print(response[\"text\"])"
   ]
  },
  {
   "cell_type": "markdown",
   "metadata": {},
   "source": [
    "##### 최신버전 LangChain에서는 ChatOllama와 RunnableSequence(prompt | llm) 를 사용"
   ]
  },
  {
   "cell_type": "code",
   "execution_count": 1,
   "metadata": {},
   "outputs": [
    {
     "name": "stdout",
     "output_type": "stream",
     "text": [
      "<class 'langchain_core.messages.ai.AIMessage'>\n",
      "content='<think>\\nOkay, the user just asked for a definition of Python. I remember that\\'s a programming language they might be new to.\\n\\nThey could be students or someone starting out in coding. I should make sure it\\'s clear but not too technical since they\\'re probably learning basics first.\\n\\nLet me check if I got the correct version. They wrote \"A:\", which might have confused me earlier, so I\\'ll just answer with the full definition without that part.\\n</think>\\n\\nPython is a high-level programming language and interactive development environment used for a wide range of tasks across various fields such as software development, data analysis, machine learning, web programming, and more. It was created by Guido van Rosendam and maintains an active development team that contributes to its core features and improvements.\\n\\n### Key Features of Python:\\n1. **Dynamic Typing**: Python automatically determines the type of data in most operations, without requiring explicit type declarations.\\n2. **Loops, Conditionals, and Exception Handling**: Commonly used control structures like `for`, `while` loops, conditionals (if-else), try-except-finally blocks, and exception handling.\\n3. **Object-Oriented Programming**: Python supports object-oriented programming with classes, instances (objects), methods, and attributes.\\n4. **Importing Modules**: You can import modules, which are like other packages of code stored in the local directory relative to where you\\'re running your script or module.\\n\\n### Common Applications:\\n- **Data Entry/Analysis**: Handled by databases and spreadsheets but written directly in Python for data processing tasks.\\n- **Web Development**: Simple and fast web-based interfaces for basic tasks, though more advanced tools like JavaScript are common.\\n- **Data Visualization**: Using libraries like Matplotlib and Seaborn to create visualizations without writing complex graphs.\\n- **API Development**: API layers often use Python as their primary language.\\n\\n### Why It\\'s Still Popular:\\nPython is known for being easy to learn and write, with a large and active community contributing to its features. This makes it accessible even to those new to programming while still offering powerful capabilities that can scale up in more complex projects.\\n\\nIf you\\'re looking to learn Python, there are plenty of resources available from online tutorials to books, along with the official documentation (Python.org) for further guidance.' additional_kwargs={} response_metadata={'model': 'deepseek-r1:1.5b', 'created_at': '2025-09-19T06:28:22.0814544Z', 'done': True, 'done_reason': 'stop', 'total_duration': 25702975600, 'load_duration': 1420125100, 'prompt_eval_count': 24, 'prompt_eval_duration': 527349000, 'eval_count': 470, 'eval_duration': 23753916800, 'model_name': 'deepseek-r1:1.5b'} id='run--8154e1f5-26b1-49b4-a1b4-9ae9f98bc48c-0' usage_metadata={'input_tokens': 24, 'output_tokens': 470, 'total_tokens': 494}\n"
     ]
    }
   ],
   "source": [
    "from langchain_ollama import ChatOllama\n",
    "from langchain_core.prompts import ChatPromptTemplate\n",
    "\n",
    "# Ollama를 사용하여 로컬에서 실행 중인 llama3.2 모델 로드\n",
    "llm = ChatOllama(model=\"deepseek-r1:1.5b\")\n",
    "\n",
    "# 프롬프트 템플릿 정의\n",
    "# prompt_template = PromptTemplate.from_template(\"Q: {question}\\nA:\")\n",
    "\n",
    "# 더 정확한 응답을 위한 개선된 프롬프트\n",
    "prompt_template = ChatPromptTemplate.from_messages([\n",
    "    (\"system\", \"You are an AI assistant that provides accurate and detailed answers.\"),\n",
    "    (\"human\", \"Q: {question}\\nA:\")\n",
    "])\n",
    "\n",
    "# 최신 LangChain 방식: RunnableSequence 활용\n",
    "chain = prompt_template | llm\n",
    "\n",
    "# 실행 예시\n",
    "question = \"What is Pyhon?\"\n",
    "response = chain.invoke({\"question\": question})\n",
    "\n",
    "print(type(response))\n",
    "print(response)"
   ]
  },
  {
   "cell_type": "code",
   "execution_count": 2,
   "metadata": {},
   "outputs": [
    {
     "name": "stdout",
     "output_type": "stream",
     "text": [
      "<think>\n",
      "Okay, the user just asked for a definition of Python. I remember that's a programming language they might be new to.\n",
      "\n",
      "They could be students or someone starting out in coding. I should make sure it's clear but not too technical since they're probably learning basics first.\n",
      "\n",
      "Let me check if I got the correct version. They wrote \"A:\", which might have confused me earlier, so I'll just answer with the full definition without that part.\n",
      "</think>\n",
      "\n",
      "Python is a high-level programming language and interactive development environment used for a wide range of tasks across various fields such as software development, data analysis, machine learning, web programming, and more. It was created by Guido van Rosendam and maintains an active development team that contributes to its core features and improvements.\n",
      "\n",
      "### Key Features of Python:\n",
      "1. **Dynamic Typing**: Python automatically determines the type of data in most operations, without requiring explicit type declarations.\n",
      "2. **Loops, Conditionals, and Exception Handling**: Commonly used control structures like `for`, `while` loops, conditionals (if-else), try-except-finally blocks, and exception handling.\n",
      "3. **Object-Oriented Programming**: Python supports object-oriented programming with classes, instances (objects), methods, and attributes.\n",
      "4. **Importing Modules**: You can import modules, which are like other packages of code stored in the local directory relative to where you're running your script or module.\n",
      "\n",
      "### Common Applications:\n",
      "- **Data Entry/Analysis**: Handled by databases and spreadsheets but written directly in Python for data processing tasks.\n",
      "- **Web Development**: Simple and fast web-based interfaces for basic tasks, though more advanced tools like JavaScript are common.\n",
      "- **Data Visualization**: Using libraries like Matplotlib and Seaborn to create visualizations without writing complex graphs.\n",
      "- **API Development**: API layers often use Python as their primary language.\n",
      "\n",
      "### Why It's Still Popular:\n",
      "Python is known for being easy to learn and write, with a large and active community contributing to its features. This makes it accessible even to those new to programming while still offering powerful capabilities that can scale up in more complex projects.\n",
      "\n",
      "If you're looking to learn Python, there are plenty of resources available from online tutorials to books, along with the official documentation (Python.org) for further guidance.\n"
     ]
    }
   ],
   "source": [
    "print(response.content)"
   ]
  },
  {
   "cell_type": "code",
   "execution_count": 3,
   "metadata": {},
   "outputs": [
    {
     "name": "stdout",
     "output_type": "stream",
     "text": [
      "<think>\n",
      "Okay, the user is asking, \"What is Python?\" I need to provide a clear and accurate answer. Let me start by explaining what Python is. It's a programming language, right? I should mention that it's created by Guido van Rossum in 1991. Maybe add that it's widely used for various purposes like web development, data analysis, artificial intelligence, etc.\n",
      "\n",
      "Wait, I should also mention that it's known for its readability and simplicity. That's a key point. Oh, and the fact that it's open-source and has a large community. Maybe include some examples of popular libraries or frameworks, like Django or NumPy. But the user might not need all that detail. Keep it concise.\n",
      "\n",
      "Also, note that Python is used in both small scripts and large-scale applications. Highlight its versatility. Make sure to define it in simple terms without jargon. Avoid technical terms that might confuse someone new. Alright, structure the answer with a brief intro, key features, and applications. Check for any inaccuracies. Yeah, that should cover it.\n",
      "</think>\n",
      "\n",
      "파이썬은 프로그래밍 언어로, 1991년 Guido van Rossum에 의해 개발된 것으로, 간결하고 읽기 쉽게 설계된 언어입니다. 이 언어는 데이터 분석, 웹 개발, 인공지능(AI), 데브옵션, 시스템 관리 등 다양한 분야에서 널리 활용됩니다. 파이썬은 코드가 간단하고 가독성이 뛰어나며, 대규모 커뮤니티와 함께 편리하게 사용할 수 있습니다. 예를 들어, Django 프레임워크로 웹 사이트를 개발하거나, NumPy, Pandas로 데이터 분석을 수행할 수 있습니다. 파이썬은 작은 스크립트부터 큰 프로젝트까지 다양한 용도로 활용되는 강력한 언어입니다.\n"
     ]
    }
   ],
   "source": [
    "from langchain_ollama import ChatOllama\n",
    "from langchain_core.prompts import ChatPromptTemplate\n",
    "\n",
    "# Ollama를 사용하여 로컬에서 실행 중인 llama3.2 모델 로드\n",
    "llm = ChatOllama(model=\"qwen3:1.7b\")\n",
    "\n",
    "# 더 정확한 응답을 위한 개선된 프롬프트\n",
    "prompt_template = ChatPromptTemplate.from_messages([\n",
    "    (\"system\", \"You are an AI assistant that provides accurate and detailed answers.\"),\n",
    "    (\"human\", \"Q: {question}\\nA:\")\n",
    "])\n",
    "\n",
    "# 최신 LangChain 방식: RunnableSequence 활용\n",
    "chain = prompt_template | llm\n",
    "\n",
    "# 실행 예시\n",
    "question = \"파이썬은 무엇인가요?\"\n",
    "response = chain.invoke({\"question\": question})\n",
    "\n",
    "print(response.content)"
   ]
  }
 ],
 "metadata": {
  "kernelspec": {
   "display_name": "mylangchain-app-SBe-Yh6W-py3.12",
   "language": "python",
   "name": "python3"
  },
  "language_info": {
   "codemirror_mode": {
    "name": "ipython",
    "version": 3
   },
   "file_extension": ".py",
   "mimetype": "text/x-python",
   "name": "python",
   "nbconvert_exporter": "python",
   "pygments_lexer": "ipython3",
   "version": "3.12.7"
  }
 },
 "nbformat": 4,
 "nbformat_minor": 2
}
