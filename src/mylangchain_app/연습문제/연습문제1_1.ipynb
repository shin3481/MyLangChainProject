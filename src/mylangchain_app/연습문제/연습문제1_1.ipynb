{
 "cells": [
  {
   "cell_type": "code",
   "execution_count": null,
   "id": "e1ff86a1",
   "metadata": {},
   "outputs": [
    {
     "name": "stdout",
     "output_type": "stream",
     "text": [
      "\n",
      "추천 결과:\n",
      "\n",
      "추천 요리: 머쉬룸 계란 우유 스크램블\n",
      "재료: 계란 3개, 우유 3큰술, 버터 1작은술(생략 가능), 소금·후추 약간\n",
      "\n",
      "조리법:\n",
      "1. 계란을 볼에 깨뜨려 우유, 소금, 후추를 넣고 털어 거품이 살짝 일 정도로 섞는다.\n",
      "2. 팬에 버터를 녹인 후 약불로 줄이고 ①의 계란물을 붓는다.\n",
      "3. 살살 끓어오르면 젓가락으로 가장자리부터 중앙으로 살살 밀어 올리듯 저어가며 익힌다.\n",
      "4. 계란이 반쯤 굳었을 때 불을 끄고 잔열로 부드럽게 마무리한 뒤 접시에 담아낸다.\n"
     ]
    }
   ],
   "source": [
    "# AI 요리사 체인 (Jupyter Notebook용)\n",
    "\n",
    "from langchain.prompts import PromptTemplate\n",
    "from langchain_openai import ChatOpenAI\n",
    "from langchain.schema import StrOutputParser\n",
    "from dotenv import load_dotenv\n",
    "import os\n",
    "# .env 파일을 불러와서 환경 변수로 설정\n",
    "load_dotenv()\n",
    "\n",
    "OPENAI_API_KEY = os.getenv(\"OPENAI_API_KEY\")\n",
    "\n",
    "# 1. 프롬프트 템플릿 정의\n",
    "prompt = PromptTemplate(\n",
    "    input_variables=[\"ingredients\"],\n",
    "    template=\"\"\"\n",
    "당신은 훌륭한 요리사입니다.\n",
    "사용자가 입력한 재료를 사용하여 만들 수 있는 요리를 추천해주세요.\n",
    "\n",
    "재료: {ingredients}\n",
    "\n",
    "출력 형식:\n",
    "추천 요리: [요리 이름]\n",
    "재료: [사용된 재료들]\n",
    "조리법:\n",
    "1. ...\n",
    "2. ...\n",
    "\"\"\"\n",
    ")\n",
    "\n",
    "# 2. ChatOpenAI 모델 설정\n",
    "llm = ChatOpenAI(\n",
    "    api_key=OPENAI_API_KEY,\n",
    "    base_url=\"https://api.groq.com/openai/v1\",  # Groq API 엔드포인트\n",
    "    #model=\"meta-llama/llama-4-scout-17b-16e-instruct\",  # Spring AI와 동일한 모델\n",
    "    model=\"moonshotai/kimi-k2-instruct-0905\",\n",
    "    temperature=0.7\n",
    ")\n",
    "# 3. 출력 파서\n",
    "parser = StrOutputParser()\n",
    "\n",
    "# 4. LCEL(|) 문법으로 체인 연결\n",
    "chain = prompt | llm | parser\n",
    "\n",
    "# === Notebook에서 실행 ===\n",
    "ingredients_input = input(\"재료를 입력하세요 (예: 계란, 밥, 김치): \")\n",
    "result = chain.invoke({\"ingredients\": ingredients_input})\n",
    "print(\"\\n추천 결과:\\n\")\n",
    "print(result)\n"
   ]
  }
 ],
 "metadata": {
  "kernelspec": {
   "display_name": "mylangchain-app-SBe-Yh6W-py3.12",
   "language": "python",
   "name": "python3"
  },
  "language_info": {
   "codemirror_mode": {
    "name": "ipython",
    "version": 3
   },
   "file_extension": ".py",
   "mimetype": "text/x-python",
   "name": "python",
   "nbconvert_exporter": "python",
   "pygments_lexer": "ipython3",
   "version": "3.12.7"
  }
 },
 "nbformat": 4,
 "nbformat_minor": 5
}
