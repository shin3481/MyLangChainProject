{
 "cells": [
  {
   "cell_type": "code",
   "execution_count": null,
   "id": "c709f64d",
   "metadata": {},
   "outputs": [],
   "source": []
  },
  {
   "cell_type": "code",
   "execution_count": null,
   "id": "94a33b08",
   "metadata": {},
   "outputs": [],
   "source": [
    "from typing import List\n",
    "from pydantic import BaseModel, Field\n",
    "from langchain.prompts import PromptTemplate\n",
    "from langchain.chat_models import ChatOpenAI\n",
    "from langchain.output_parsers import PydanticOutputParser\n",
    "from dotenv import load_dotenv\n",
    "import os\n",
    "# 1. Pydantic 모델 정의\n",
    "class StudentInfo(BaseModel):\n",
    "    name: str = Field(description=\"학생의 이름\")\n",
    "    age: int = Field(description=\"학생의 나이 (숫자)\")\n",
    "    major: str = Field(description=\"학생의 전공\")\n",
    "    hobbies: List[str] = Field(description=\"학생의 취미 리스트\")\n",
    "    goal: str = Field(description=\"학생의 목표\")\n",
    "\n",
    "# 2. 출력 파서\n",
    "parser = PydanticOutputParser(pydantic_object=StudentInfo)\n",
    "\n",
    "# 3. 프롬프트 템플릿\n",
    "template = \"\"\"\n",
    "아래 학생의 자기소개에서 이름, 나이, 전공, 취미 리스트, 목표를 추출해 구조화된 JSON으로 출력해.\n",
    "반드시 {format_instructions} 형식을 따르세요.\n",
    "\n",
    "학생 자기소개:\n",
    "{intro}\n",
    "\"\"\"\n",
    "\n",
    "prompt = PromptTemplate(\n",
    "    template=template,\n",
    "    input_variables=[\"intro\"],\n",
    "    partial_variables={\"format_instructions\": parser.get_format_instructions()},\n",
    ")\n",
    "load_dotenv()\n",
    "\n",
    "OPENAI_API_KEY = os.getenv(\"OPENAI_API_KEY\")\n",
    "# 4. LLM 모델\n",
    "llm = ChatOpenAI(\n",
    "    api_key=OPENAI_API_KEY,\n",
    "    base_url=\"https://api.groq.com/openai/v1\",  # Groq API 엔드포인트\n",
    "    #model=\"meta-llama/llama-4-scout-17b-16e-instruct\",  # Spring AI와 동일한 모델\n",
    "    model=\"moonshotai/kimi-k2-instruct-0905\",\n",
    "    temperature=0.7\n",
    ")\n",
    "# 5. 체인 실행 함수\n",
    "def extract_student_info(intro: str):\n",
    "    input_text = prompt.format(intro=intro)\n",
    "    output = llm.predict(input_text)\n",
    "    return parser.parse(output)\n",
    "\n",
    "# 6. 테스트 입력\n",
    "intro_text = \"안녕하세요! 저는 김민수이고 22살입니다. 컴퓨터공학을 전공하고 있어요. 취미로는 게임하기, 영화보기, 코딩을 좋아합니다. 앞으로 훌륭한 개발자가 되는 것이 목표입니다.\"\n",
    "\n",
    "result = extract_student_info(intro_text)\n",
    "print(result.dict())\n"
   ]
  }
 ],
 "metadata": {
  "kernelspec": {
   "display_name": "mylangchain-app-SBe-Yh6W-py3.12",
   "language": "python",
   "name": "python3"
  },
  "language_info": {
   "codemirror_mode": {
    "name": "ipython",
    "version": 3
   },
   "file_extension": ".py",
   "mimetype": "text/x-python",
   "name": "python",
   "nbconvert_exporter": "python",
   "pygments_lexer": "ipython3",
   "version": "3.12.7"
  }
 },
 "nbformat": 4,
 "nbformat_minor": 5
}
