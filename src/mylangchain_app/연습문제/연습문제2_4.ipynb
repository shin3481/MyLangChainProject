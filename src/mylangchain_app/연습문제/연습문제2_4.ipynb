{
 "cells": [
  {
   "cell_type": "code",
   "execution_count": null,
   "id": "c709f64d",
   "metadata": {},
   "outputs": [],
   "source": []
  },
  {
   "cell_type": "code",
   "execution_count": null,
   "id": "94a33b08",
   "metadata": {},
   "outputs": [],
   "source": [
    "from langchain.chat_models import ChatOpenAI\n",
    "from langchain.prompts import PromptTemplate\n",
    "from langchain.output_parsers import StructuredOutputParser, ResponseSchema\n",
    "from dotenv import load_dotenv\n",
    "import os\n",
    "\n",
    "# 1. 출력 스키마 정의\n",
    "response_schemas = [\n",
    "    ResponseSchema(name=\"destination\", description=\"여행지 (도시나 지역 이름)\"),\n",
    "    ResponseSchema(name=\"duration\", description=\"여행 기간 (예: 2박 3일, 5일 등)\"),\n",
    "    ResponseSchema(name=\"budget\", description=\"예산 (숫자 + 단위, 예: 30만원)\"),\n",
    "    ResponseSchema(name=\"rating\", description=\"여행 추천도, 1~5점 중 하나\"),\n",
    "    ResponseSchema(name=\"activities\", description=\"주요 활동 리스트 (여행 중 했던 활동들)\")\n",
    "]\n",
    "\n",
    "# 2. 파서 생성\n",
    "output_parser = StructuredOutputParser.from_response_schemas(response_schemas)\n",
    "\n",
    "# 3. 프롬프트 정의\n",
    "format_instructions = output_parser.get_format_instructions()\n",
    "\n",
    "template = \"\"\"\n",
    "아래 여행 후기나 계획을 읽고 핵심 정보를 추출하세요.\n",
    "반드시 {format_instructions} 형식으로 출력해야 합니다.\n",
    "\n",
    "여행 텍스트:\n",
    "{review}\n",
    "\"\"\"\n",
    "\n",
    "prompt = PromptTemplate(\n",
    "    template=template,\n",
    "    input_variables=[\"review\"],\n",
    "    partial_variables={\"format_instructions\": format_instructions},\n",
    ")\n",
    "load_dotenv()\n",
    "\n",
    "OPENAI_API_KEY = os.getenv(\"OPENAI_API_KEY\")\n",
    "# 4. 모델 정의\n",
    "llm = ChatOpenAI(\n",
    "    api_key=OPENAI_API_KEY,\n",
    "    base_url=\"https://api.groq.com/openai/v1\",  # Groq API 엔드포인트\n",
    "    #model=\"meta-llama/llama-4-scout-17b-16e-instruct\",  # Spring AI와 동일한 모델\n",
    "    model=\"moonshotai/kimi-k2-instruct-0905\",\n",
    "    temperature=0.7\n",
    ")\n",
    "\n",
    "# 5. 실행 함수\n",
    "def analyze_trip(review: str):\n",
    "    input_text = prompt.format(review=review)\n",
    "    output = llm.predict(input_text)\n",
    "    return output_parser.parse(output)\n",
    "\n",
    "# 6. 테스트 입력\n",
    "review_text = \"지난 주에 부산으로 2박 3일 여행을 다녀왔어요. 총 30만원 정도 썼는데 해운대에서 바다구경하고, 자갈치시장에서 회 먹고, 감천문화마을도 구경했어요. 정말 만족스러운 여행이었습니다. 5점 만점에 4점 정도 줄 수 있을 것 같아요.\"\n",
    "\n",
    "result = analyze_trip(review_text)\n",
    "print(result)\n"
   ]
  }
 ],
 "metadata": {
  "kernelspec": {
   "display_name": "mylangchain-app-SBe-Yh6W-py3.12",
   "language": "python",
   "name": "python3"
  },
  "language_info": {
   "codemirror_mode": {
    "name": "ipython",
    "version": 3
   },
   "file_extension": ".py",
   "mimetype": "text/x-python",
   "name": "python",
   "nbconvert_exporter": "python",
   "pygments_lexer": "ipython3",
   "version": "3.12.7"
  }
 },
 "nbformat": 4,
 "nbformat_minor": 5
}
